{
 "cells": [
  {
   "cell_type": "code",
   "execution_count": 19,
   "metadata": {},
   "outputs": [],
   "source": [
    "\n",
    "import httpx\n",
    "import asyncio\n",
    "import nest_asyncio\n",
    "\n",
    "\n",
    "nest_asyncio.apply()\n",
    "BASE_URL = 'http://127.0.0.1:8000' \n"
   ]
  },
  {
   "cell_type": "code",
   "execution_count": 25,
   "metadata": {},
   "outputs": [],
   "source": [
    "async def test_api():\n",
    "    async with httpx.AsyncClient() as client:\n",
    "\n",
    "        # 1️⃣ Register a New User\n",
    "        print('\\n✅ Registering a new user...')\n",
    "        user_data = {'username': 'testuser2', 'password': 'securepassword'}\n",
    "        response = await client.post(f'{BASE_URL}/users/register', json=user_data)\n",
    "        print(response.json())\n",
    "\n",
    "        # 2️⃣ Get All Users\n",
    "        print('\\n✅ Fetching all users...')\n",
    "        response = await client.get(f'{BASE_URL}/users/users')\n",
    "        print(response.json())\n",
    "\n",
    "        # 3️⃣ Save User Data\n",
    "        print('\\n✅ Saving user data...')\n",
    "        user_data_payload = {\n",
    "            'userid': 'testuser', 'val0': 'A', 'val1': 'B', 'val2': 'C', 'val3': 'D', 'val4': 'E'\n",
    "        }\n",
    "        response = await client.post(f'{BASE_URL}/data/save_data', json=user_data_payload)\n",
    "        print(response.json())\n",
    "\n",
    "        # 4️⃣ Retrieve User Data\n",
    "        print('\\n✅ Retrieving user data...')\n",
    "        response = await client.get(f'{BASE_URL}/data/get_data/testuser')\n",
    "        print(response.json())\n",
    "\n",
    "        # 5️⃣ Store Chat Logs\n",
    "        print('\\n✅ Storing chat logs...')\n",
    "        chat_payload = {\n",
    "            'chatid': 'chat123',\n",
    "            'chat': [\n",
    "                {'system': 'Hello!', 'user': 'Hi!', 'assistant': 'How can I help you?'}\n",
    "            ]\n",
    "        }\n",
    "        response = await client.post(f'{BASE_URL}/chat/store_chat', json=chat_payload)\n",
    "        print(response.json())\n",
    "\n",
    "        # 6️⃣ Retrieve Chat Logs\n",
    "        print('\\n✅ Retrieving chat logs...')\n",
    "        response = await client.get(f'{BASE_URL}/chat/get_chat/chat123')\n",
    "        print(response.json())\n"
   ]
  },
  {
   "cell_type": "code",
   "execution_count": 26,
   "metadata": {},
   "outputs": [
    {
     "name": "stdout",
     "output_type": "stream",
     "text": [
      "\n",
      "✅ Registering a new user...\n",
      "{'id': '67a74d699472b8a25368b075', 'username': 'testuser2'}\n",
      "\n",
      "✅ Fetching all users...\n",
      "[{'id': '67a7457cb4c516f8e7e38f4a', 'username': 'testuser'}, {'id': '67a74d489472b8a25368b074', 'username': 'testuser3'}, {'id': '67a74d699472b8a25368b075', 'username': 'testuser2'}]\n",
      "\n",
      "✅ Saving user data...\n",
      "{'message': 'Data saved successfully'}\n",
      "\n",
      "✅ Retrieving user data...\n",
      "{'_id': '67a7457db4c516f8e7e38f4b', 'userid': 'testuser', 'val0': 'A', 'val1': 'B', 'val2': 'C', 'val3': 'D', 'val4': 'E', 'val5': None, 'val6': None, 'val7': None}\n",
      "\n",
      "✅ Storing chat logs...\n",
      "{'message': 'Chat stored successfully'}\n",
      "\n",
      "✅ Retrieving chat logs...\n",
      "{'_id': '67a7457eb4c516f8e7e38f4c', 'chatid': 'chat123', 'chat': [{'system': 'Hello!', 'user': 'Hi!', 'assistant': 'How can I help you?'}]}\n"
     ]
    }
   ],
   "source": [
    "asyncio.run(test_api())"
   ]
  },
  {
   "cell_type": "code",
   "execution_count": null,
   "metadata": {},
   "outputs": [
    {
     "name": "stdout",
     "output_type": "stream",
     "text": [
      "{'id': '67a74d489472b8a25368b074', 'username': 'testuser3'}\n"
     ]
    }
   ],
   "source": [
    "async def test_api():\n",
    "    async with httpx.AsyncClient() as client:\n",
    "        user_data = {'username': 'testuser3', 'password': 'securepassword'}\n",
    "        response = await client.post(f'{BASE_URL}/users/register', json=user_data)\n",
    "        print(response.json())\n",
    "        \n",
    "asyncio.run(test_api())"
   ]
  },
  {
   "cell_type": "code",
   "execution_count": null,
   "metadata": {},
   "outputs": [],
   "source": []
  }
 ],
 "metadata": {
  "kernelspec": {
   "display_name": "Python 3",
   "language": "python",
   "name": "python3"
  },
  "language_info": {
   "codemirror_mode": {
    "name": "ipython",
    "version": 3
   },
   "file_extension": ".py",
   "mimetype": "text/x-python",
   "name": "python",
   "nbconvert_exporter": "python",
   "pygments_lexer": "ipython3",
   "version": "3.11.6"
  }
 },
 "nbformat": 4,
 "nbformat_minor": 4
}
